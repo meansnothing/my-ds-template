{
 "cells": [
  {
   "cell_type": "code",
   "execution_count": 1,
   "metadata": {},
   "outputs": [
    {
     "name": "stdout",
     "output_type": "stream",
     "text": [
      "d:\\Projects\\my-ds-template\n"
     ]
    }
   ],
   "source": [
    "import os\n",
    "import matplotlib.pyplot as plt\n",
    "import pandas as pd\n",
    "import seaborn as sns\n",
    "\n",
    "%cd .."
   ]
  },
  {
   "cell_type": "code",
   "execution_count": 16,
   "metadata": {},
   "outputs": [
    {
     "data": {
      "text/html": [
       "<div>\n",
       "<style scoped>\n",
       "    .dataframe tbody tr th:only-of-type {\n",
       "        vertical-align: middle;\n",
       "    }\n",
       "\n",
       "    .dataframe tbody tr th {\n",
       "        vertical-align: top;\n",
       "    }\n",
       "\n",
       "    .dataframe thead th {\n",
       "        text-align: right;\n",
       "    }\n",
       "</style>\n",
       "<table border=\"1\" class=\"dataframe\">\n",
       "  <thead>\n",
       "    <tr style=\"text-align: right;\">\n",
       "      <th></th>\n",
       "      <th>ID</th>\n",
       "      <th>Character</th>\n",
       "      <th>Lv</th>\n",
       "      <th>Ascension</th>\n",
       "      <th>Base HP</th>\n",
       "      <th>Base ATK</th>\n",
       "      <th>Base DEF</th>\n",
       "      <th>Region</th>\n",
       "      <th>Ascension Stat Value</th>\n",
       "      <th>Rarity</th>\n",
       "      <th>gender</th>\n",
       "      <th>Weapon</th>\n",
       "      <th>Main role</th>\n",
       "      <th>Element</th>\n",
       "      <th>height</th>\n",
       "      <th>Model Type</th>\n",
       "      <th>Ascension Stat</th>\n",
       "    </tr>\n",
       "  </thead>\n",
       "  <tbody>\n",
       "    <tr>\n",
       "      <th>410</th>\n",
       "      <td>kamisatoayaka</td>\n",
       "      <td>Ayaka</td>\n",
       "      <td>40</td>\n",
       "      <td>1.0</td>\n",
       "      <td>5779</td>\n",
       "      <td>154</td>\n",
       "      <td>352</td>\n",
       "      <td>Inazuma</td>\n",
       "      <td>38.4%</td>\n",
       "      <td>5.0</td>\n",
       "      <td>Female</td>\n",
       "      <td>Sword</td>\n",
       "      <td>DPS</td>\n",
       "      <td>Cryo</td>\n",
       "      <td>Medium</td>\n",
       "      <td>Medium Female</td>\n",
       "      <td>CRIT DMG</td>\n",
       "    </tr>\n",
       "    <tr>\n",
       "      <th>229</th>\n",
       "      <td>razor</td>\n",
       "      <td>Razor</td>\n",
       "      <td>50</td>\n",
       "      <td>0.0</td>\n",
       "      <td>6343</td>\n",
       "      <td>124</td>\n",
       "      <td>398</td>\n",
       "      <td>Mondstadt</td>\n",
       "      <td>30.0%</td>\n",
       "      <td>4.0</td>\n",
       "      <td>Male</td>\n",
       "      <td>Claymore</td>\n",
       "      <td>DPS</td>\n",
       "      <td>Electro</td>\n",
       "      <td>Medium</td>\n",
       "      <td>Medium Male</td>\n",
       "      <td>Physical DMG</td>\n",
       "    </tr>\n",
       "    <tr>\n",
       "      <th>450</th>\n",
       "      <td>eula</td>\n",
       "      <td>Eula</td>\n",
       "      <td>20</td>\n",
       "      <td>1.0</td>\n",
       "      <td>3554</td>\n",
       "      <td>92</td>\n",
       "      <td>202</td>\n",
       "      <td>Mondstadt</td>\n",
       "      <td>38.4%</td>\n",
       "      <td>5.0</td>\n",
       "      <td>Female</td>\n",
       "      <td>Claymore</td>\n",
       "      <td>DPS</td>\n",
       "      <td>Cryo</td>\n",
       "      <td>Tall</td>\n",
       "      <td>Tall Female</td>\n",
       "      <td>CRIT DMG</td>\n",
       "    </tr>\n",
       "    <tr>\n",
       "      <th>457</th>\n",
       "      <td>eula</td>\n",
       "      <td>Eula</td>\n",
       "      <td>70</td>\n",
       "      <td>0.0</td>\n",
       "      <td>10119</td>\n",
       "      <td>262</td>\n",
       "      <td>574</td>\n",
       "      <td>Mondstadt</td>\n",
       "      <td>38.4%</td>\n",
       "      <td>5.0</td>\n",
       "      <td>Female</td>\n",
       "      <td>Claymore</td>\n",
       "      <td>DPS</td>\n",
       "      <td>Cryo</td>\n",
       "      <td>Tall</td>\n",
       "      <td>Tall Female</td>\n",
       "      <td>CRIT DMG</td>\n",
       "    </tr>\n",
       "    <tr>\n",
       "      <th>210</th>\n",
       "      <td>qiqi</td>\n",
       "      <td>Qiqi</td>\n",
       "      <td>1</td>\n",
       "      <td>NaN</td>\n",
       "      <td>963</td>\n",
       "      <td>22</td>\n",
       "      <td>72</td>\n",
       "      <td>Liyue</td>\n",
       "      <td>22.0%</td>\n",
       "      <td>5.0</td>\n",
       "      <td>Female</td>\n",
       "      <td>Sword</td>\n",
       "      <td>Healer</td>\n",
       "      <td>Cryo</td>\n",
       "      <td>Short</td>\n",
       "      <td>Short Female</td>\n",
       "      <td>Healing Bonus</td>\n",
       "    </tr>\n",
       "  </tbody>\n",
       "</table>\n",
       "</div>"
      ],
      "text/plain": [
       "                ID Character  Lv  Ascension  Base HP  Base ATK  Base DEF  \\\n",
       "410  kamisatoayaka     Ayaka  40        1.0     5779       154       352   \n",
       "229          razor     Razor  50        0.0     6343       124       398   \n",
       "450           eula      Eula  20        1.0     3554        92       202   \n",
       "457           eula      Eula  70        0.0    10119       262       574   \n",
       "210           qiqi      Qiqi   1        NaN      963        22        72   \n",
       "\n",
       "        Region Ascension Stat Value  Rarity  gender    Weapon Main role  \\\n",
       "410    Inazuma                38.4%     5.0  Female     Sword       DPS   \n",
       "229  Mondstadt                30.0%     4.0    Male  Claymore       DPS   \n",
       "450  Mondstadt                38.4%     5.0  Female  Claymore       DPS   \n",
       "457  Mondstadt                38.4%     5.0  Female  Claymore       DPS   \n",
       "210      Liyue                22.0%     5.0  Female     Sword    Healer   \n",
       "\n",
       "     Element  height     Model Type Ascension Stat  \n",
       "410     Cryo  Medium  Medium Female       CRIT DMG  \n",
       "229  Electro  Medium    Medium Male   Physical DMG  \n",
       "450     Cryo    Tall    Tall Female       CRIT DMG  \n",
       "457     Cryo    Tall    Tall Female       CRIT DMG  \n",
       "210     Cryo   Short   Short Female  Healing Bonus  "
      ]
     },
     "execution_count": 16,
     "metadata": {},
     "output_type": "execute_result"
    }
   ],
   "source": [
    "df_growth = pd.read_csv('data/processed/genshin_character_growth.csv')\n",
    "df_lv_90 = pd.read_csv('data/processed/genshin_character.csv')\n",
    "columns_from_df_lv_90 = ['ID'] + list(set(df_lv_90.columns)-set(df_growth.columns))\n",
    "df = pd.merge(df_growth, df_lv_90[columns_from_df_lv_90], on='ID', how='left')\n",
    "df.sample(5)"
   ]
  },
  {
   "cell_type": "markdown",
   "metadata": {},
   "source": [
    "## Association between two continue variables"
   ]
  },
  {
   "cell_type": "code",
   "execution_count": 13,
   "metadata": {},
   "outputs": [
    {
     "data": {
      "text/plain": [
       "<AxesSubplot:xlabel='Lv', ylabel='Base ATK'>"
      ]
     },
     "execution_count": 13,
     "metadata": {},
     "output_type": "execute_result"
    },
    {
     "data": {
      "image/png": "[encoded data removed]",
      "text/plain": [
       "<Figure size 432x288 with 1 Axes>"
      ]
     },
     "metadata": {
      "needs_background": "light"
     },
     "output_type": "display_data"
    }
   ],
   "source": [
    "sns.scatterplot(x='Lv',y='Base ATK', data=df, hue= 'Main role')"
   ]
  },
  {
   "cell_type": "markdown",
   "metadata": {},
   "source": [
    "## Correlation heatmap"
   ]
  },
  {
   "cell_type": "code",
   "execution_count": 14,
   "metadata": {},
   "outputs": [
    {
     "data": {
      "text/plain": [
       "<AxesSubplot:>"
      ]
     },
     "execution_count": 14,
     "metadata": {},
     "output_type": "execute_result"
    },
    {
     "data": {
      "image/png": "[encoded data removed]",
      "text/plain": [
       "<Figure size 432x288 with 2 Axes>"
      ]
     },
     "metadata": {
      "needs_background": "light"
     },
     "output_type": "display_data"
    }
   ],
   "source": [
    "sns.heatmap(df.corr())"
   ]
  },
  {
   "cell_type": "markdown",
   "metadata": {},
   "source": [
    "- Assumptions  \n",
    "  - Linearity between Lv and attributes\n",
    "  - Normality of attributes in\n",
    "  - Rarity 5 characters have better attributes"
   ]
  }
 ],
 "metadata": {
  "kernelspec": {
   "display_name": "Python 3.9.6 64-bit",
   "language": "python",
   "name": "python3"
  },
  "language_info": {
   "codemirror_mode": {
    "name": "ipython",
    "version": 3
   },
   "file_extension": ".py",
   "mimetype": "text/x-python",
   "name": "python",
   "nbconvert_exporter": "python",
   "pygments_lexer": "ipython3",
   "version": "3.9.6"
  },
  "orig_nbformat": 4,
  "vscode": {
   "interpreter": {
    "hash": "81794d4967e6c3204c66dcd87b604927b115b27c00565d3d43f05ba2f3a2cb0d"
   }
  }
 },
 "nbformat": 4,
 "nbformat_minor": 2
}
